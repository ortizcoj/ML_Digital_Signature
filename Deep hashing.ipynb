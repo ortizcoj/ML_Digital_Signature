{
 "cells": [
  {
   "cell_type": "code",
   "execution_count": 1,
   "metadata": {},
   "outputs": [],
   "source": [
    "import time"
   ]
  },
  {
   "cell_type": "code",
   "execution_count": 2,
   "metadata": {},
   "outputs": [],
   "source": [
    "#Regular hash for images\n",
    "from PIL import Image\n",
    "import imagehash\n",
    "\n",
    "def calculate_image_hash(image_path):\n",
    "    \"\"\"\n",
    "    Calculate the hash value for the given image.\n",
    "\n",
    "    Parameters:\n",
    "        image_path (str): Path to the image file.\n",
    "\n",
    "    Returns:\n",
    "        str: Hash value representing the image.\n",
    "    \"\"\"\n",
    "    # Open the image using PIL (Python Imaging Library)\n",
    "    img = Image.open(image_path)\n",
    "\n",
    "    # Compute the hash value using imagehash library\n",
    "    hash_value = imagehash.average_hash(img)\n",
    "\n",
    "    # Return the hexadecimal representation of the hash\n",
    "    return str(hash_value)\n",
    "\n"
   ]
  },
  {
   "cell_type": "code",
   "execution_count": 3,
   "metadata": {},
   "outputs": [
    {
     "name": "stderr",
     "output_type": "stream",
     "text": [
      "C:\\Users\\juanc\\Anaconda3\\lib\\site-packages\\tensorflow\\python\\framework\\dtypes.py:526: FutureWarning: Passing (type, 1) or '1type' as a synonym of type is deprecated; in a future version of numpy, it will be understood as (type, (1,)) / '(1,)type'.\n",
      "  _np_qint8 = np.dtype([(\"qint8\", np.int8, 1)])\n",
      "C:\\Users\\juanc\\Anaconda3\\lib\\site-packages\\tensorflow\\python\\framework\\dtypes.py:527: FutureWarning: Passing (type, 1) or '1type' as a synonym of type is deprecated; in a future version of numpy, it will be understood as (type, (1,)) / '(1,)type'.\n",
      "  _np_quint8 = np.dtype([(\"quint8\", np.uint8, 1)])\n",
      "C:\\Users\\juanc\\Anaconda3\\lib\\site-packages\\tensorflow\\python\\framework\\dtypes.py:528: FutureWarning: Passing (type, 1) or '1type' as a synonym of type is deprecated; in a future version of numpy, it will be understood as (type, (1,)) / '(1,)type'.\n",
      "  _np_qint16 = np.dtype([(\"qint16\", np.int16, 1)])\n",
      "C:\\Users\\juanc\\Anaconda3\\lib\\site-packages\\tensorflow\\python\\framework\\dtypes.py:529: FutureWarning: Passing (type, 1) or '1type' as a synonym of type is deprecated; in a future version of numpy, it will be understood as (type, (1,)) / '(1,)type'.\n",
      "  _np_quint16 = np.dtype([(\"quint16\", np.uint16, 1)])\n",
      "C:\\Users\\juanc\\Anaconda3\\lib\\site-packages\\tensorflow\\python\\framework\\dtypes.py:530: FutureWarning: Passing (type, 1) or '1type' as a synonym of type is deprecated; in a future version of numpy, it will be understood as (type, (1,)) / '(1,)type'.\n",
      "  _np_qint32 = np.dtype([(\"qint32\", np.int32, 1)])\n",
      "C:\\Users\\juanc\\Anaconda3\\lib\\site-packages\\tensorflow\\python\\framework\\dtypes.py:535: FutureWarning: Passing (type, 1) or '1type' as a synonym of type is deprecated; in a future version of numpy, it will be understood as (type, (1,)) / '(1,)type'.\n",
      "  np_resource = np.dtype([(\"resource\", np.ubyte, 1)])\n"
     ]
    },
    {
     "name": "stdout",
     "output_type": "stream",
     "text": [
      "WARNING:tensorflow:From C:\\Users\\juanc\\Anaconda3\\lib\\site-packages\\tensorflow\\python\\ops\\resource_variable_ops.py:435: colocate_with (from tensorflow.python.framework.ops) is deprecated and will be removed in a future version.\n",
      "Instructions for updating:\n",
      "Colocations handled automatically by placer.\n"
     ]
    }
   ],
   "source": [
    "#DEEP HASH code\n",
    "import numpy as np\n",
    "from tensorflow.keras.applications import VGG16\n",
    "from tensorflow.keras.preprocessing import image\n",
    "from tensorflow.keras.models import Model\n",
    "from tensorflow.keras.layers import Dense, GlobalAveragePooling2D\n",
    "from tensorflow.keras.optimizers import Adam\n",
    "import hashlib\n",
    "\n",
    "# Load the pre-trained VGG16 model without the top layers\n",
    "base_model = VGG16(weights='imagenet', include_top=False)\n",
    "\n",
    "# Add custom top layers for hashing\n",
    "x = base_model.output\n",
    "x = GlobalAveragePooling2D()(x)\n",
    "x = Dense(512, activation='relu')(x)\n",
    "predictions = Dense(128, activation='sigmoid')(x)  # Using sigmoid activation for hash code\n",
    "\n",
    "# Define the model\n",
    "model = Model(inputs=base_model.input, outputs=predictions)\n",
    "\n",
    "# Compile the model\n",
    "model.compile(optimizer=Adam(), loss='binary_crossentropy')\n",
    "\n",
    "# Function to preprocess the image\n",
    "def preprocess_image(img_path):\n",
    "    img = image.load_img(img_path, target_size=(224, 224))\n",
    "    img_array = image.img_to_array(img)\n",
    "    img_array = np.expand_dims(img_array, axis=0)\n",
    "    img_array /= 255.0  # Normalize pixel values\n",
    "    return img_array\n",
    "\n",
    "# Function to generate the hash code for an image\n",
    "def generate_image_hash(img_path):\n",
    "    img_array = preprocess_image(img_path)\n",
    "    hash_code = model.predict(img_array)\n",
    "    # Convert hash code to hexadecimal representation\n",
    "    hash_hex = hashlib.sha256(hash_code).hexdigest()\n",
    "    return hash_hex\n",
    "\n"
   ]
  },
  {
   "cell_type": "code",
   "execution_count": 4,
   "metadata": {},
   "outputs": [
    {
     "name": "stdout",
     "output_type": "stream",
     "text": [
      "Image Hash: 5d9f3862ffffebe76886fc80e9cf388474b451c780360aa94cbc008e30ae997d\n",
      "--- 0.44327878952026367 seconds ---\n"
     ]
    }
   ],
   "source": [
    "# Example for deephashing\n",
    "image_path = \"Capture.jpg\"\n",
    "start_time = time.time()\n",
    "image_hash = generate_image_hash(image_path)\n",
    "print(\"Image Hash:\", image_hash)\n",
    "print(\"--- %s seconds ---\" % (time.time() - start_time))"
   ]
  },
  {
   "cell_type": "code",
   "execution_count": 5,
   "metadata": {},
   "outputs": [
    {
     "name": "stdout",
     "output_type": "stream",
     "text": [
      "Hash value: ff7f7f001f1f0707\n",
      "--- 0.0029926300048828125 seconds ---\n"
     ]
    }
   ],
   "source": [
    "# Example for image hash\n",
    "image_path = \"Capture.jpg\"\n",
    "start_time = time.time()\n",
    "hash_value = calculate_image_hash(image_path)\n",
    "print(\"Hash value:\", hash_value)\n",
    "print(\"--- %s seconds ---\" % (time.time() - start_time))"
   ]
  },
  {
   "cell_type": "code",
   "execution_count": 6,
   "metadata": {},
   "outputs": [
    {
     "ename": "ImportError",
     "evalue": "cannot import name 'RSA' from 'Crypto.PublicKey' (unknown location)",
     "output_type": "error",
     "traceback": [
      "\u001b[1;31m---------------------------------------------------------------------------\u001b[0m",
      "\u001b[1;31mImportError\u001b[0m                               Traceback (most recent call last)",
      "\u001b[1;32m<ipython-input-6-423c237b2699>\u001b[0m in \u001b[0;36m<module>\u001b[1;34m\u001b[0m\n\u001b[0;32m      1\u001b[0m \u001b[1;31m#Generate private and public keys\u001b[0m\u001b[1;33m\u001b[0m\u001b[1;33m\u001b[0m\u001b[1;33m\u001b[0m\u001b[0m\n\u001b[1;32m----> 2\u001b[1;33m \u001b[1;32mfrom\u001b[0m \u001b[0mCrypto\u001b[0m\u001b[1;33m.\u001b[0m\u001b[0mPublicKey\u001b[0m \u001b[1;32mimport\u001b[0m \u001b[0mRSA\u001b[0m\u001b[1;33m\u001b[0m\u001b[1;33m\u001b[0m\u001b[0m\n\u001b[0m\u001b[0;32m      3\u001b[0m \u001b[1;33m\u001b[0m\u001b[0m\n\u001b[0;32m      4\u001b[0m \u001b[1;32mdef\u001b[0m \u001b[0mgenerate_key_pair\u001b[0m\u001b[1;33m(\u001b[0m\u001b[1;33m)\u001b[0m\u001b[1;33m:\u001b[0m\u001b[1;33m\u001b[0m\u001b[1;33m\u001b[0m\u001b[0m\n\u001b[0;32m      5\u001b[0m     \u001b[0mkey\u001b[0m \u001b[1;33m=\u001b[0m \u001b[0mRSA\u001b[0m\u001b[1;33m.\u001b[0m\u001b[0mgenerate\u001b[0m\u001b[1;33m(\u001b[0m\u001b[1;36m2048\u001b[0m\u001b[1;33m)\u001b[0m\u001b[1;33m\u001b[0m\u001b[1;33m\u001b[0m\u001b[0m\n",
      "\u001b[1;31mImportError\u001b[0m: cannot import name 'RSA' from 'Crypto.PublicKey' (unknown location)"
     ]
    }
   ],
   "source": [
    "#Generate private and public keys\n",
    "from Crypto.PublicKey import RSA\n",
    "\n",
    "def generate_key_pair():\n",
    "    key = RSA.generate(2048)\n",
    "    private_key = key.exportKey()\n",
    "    public_key = key.publickey().exportKey()\n",
    "    return private_key, public_key"
   ]
  },
  {
   "cell_type": "code",
   "execution_count": null,
   "metadata": {},
   "outputs": [],
   "source": [
    "##DIGITAL SIGNATURE \n",
    "\n",
    "import hashlib\n",
    "from Crypto.Signature import PKCS1_v1_5\n",
    "from Crypto.Hash import SHA256\n",
    "from PIL import Image\n",
    "\n",
    "def sign_image(image_path, private_key_path):\n",
    "    # Load private key\n",
    "    with open(private_key_path, 'rb') as f:\n",
    "        private_key = RSA.importKey(f.read())\n",
    "\n",
    "    # Read image file\n",
    "    with open(image_path, 'rb') as f:\n",
    "        image_data = f.read()\n",
    "\n",
    "    # Compute hash of image data\n",
    "    hash = SHA256.new(image_data)\n",
    "\n",
    "    # Create signature\n",
    "    signer = PKCS1_v1_5.new(private_key)\n",
    "    signature = signer.sign(hash)\n",
    "\n",
    "    return signature\n",
    "\n",
    "def verify_signature(image_path, signature, public_key_path):\n",
    "    # Load public key\n",
    "    with open(public_key_path, 'rb') as f:\n",
    "        public_key = RSA.importKey(f.read())\n",
    "\n",
    "    # Read image file\n",
    "    with open(image_path, 'rb') as f:\n",
    "        image_data = f.read()\n",
    "\n",
    "    # Compute hash of image data\n",
    "    hash = SHA256.new(image_data)\n",
    "\n",
    "    # Verify signature\n",
    "    verifier = PKCS1_v1_5.new(public_key)\n",
    "    if verifier.verify(hash, signature):\n",
    "        print(\"Signature is valid.\")\n",
    "    else:\n",
    "        print(\"Signature is not valid.\")\n"
   ]
  },
  {
   "cell_type": "code",
   "execution_count": null,
   "metadata": {},
   "outputs": [],
   "source": [
    "# Example usage\n",
    "if __name__ == \"__main__\":\n",
    "\n",
    "    # Sign image\n",
    "    image_path = \"Capture.JPG\"\n",
    "    \n",
    "    start_time = time.time()\n",
    "    signature = sign_image(image_path, \"private_key.pem\")\n",
    "\n",
    "    # Verify signature\n",
    "    verify_signature(image_path, signature, \"public_key.pem\")\n",
    "    print(\"--- %s seconds ---\" % (time.time() - start_time))"
   ]
  },
  {
   "cell_type": "code",
   "execution_count": null,
   "metadata": {},
   "outputs": [],
   "source": [
    "##FAILED DEEP SIGNING ATTEMPT\n",
    "\n",
    "def deep_hash(data):\n",
    "    # Compute a deep hash using hashlib\n",
    "    hash_obj = hashlib.sha512()\n",
    "    hash_obj.update(data)\n",
    "    return hash_obj.digest()\n",
    "\n",
    "def sign_image(image_path, private_key_path):\n",
    "    # Load private key\n",
    "    with open(private_key_path, 'rb') as f:\n",
    "        private_key = RSA.importKey(f.read())\n",
    "\n",
    "    # Read image file\n",
    "    with open(image_path, 'rb') as f:\n",
    "        image_data = f.read()\n",
    "\n",
    "    # Compute deep hash of image data\n",
    "    deep_image_hash = deep_hash(image_data)\n",
    "\n",
    "    # Create signature\n",
    "    signer = PKCS1_v1_5.new(private_key)\n",
    "    signature = signer.sign(deep_image_hash)\n",
    "\n",
    "    return signature\n",
    "\n",
    "def verify_signature(image_path, signature, public_key_path):\n",
    "    # Load public key\n",
    "    with open(public_key_path, 'rb') as f:\n",
    "        public_key = RSA.importKey(f.read())\n",
    "\n",
    "    # Read image file\n",
    "    with open(image_path, 'rb') as f:\n",
    "        image_data = f.read()\n",
    "\n",
    "    # Compute deep hash of image data\n",
    "    deep_image_hash = deep_hash(image_data)\n",
    "\n",
    "    # Verify signature\n",
    "    verifier = PKCS1_v1_5.new(public_key)\n",
    "    if verifier.verify(deep_image_hash, signature):\n",
    "        print(\"Signature is valid.\")\n",
    "    else:\n",
    "        print(\"Signature is not valid.\")"
   ]
  },
  {
   "cell_type": "code",
   "execution_count": null,
   "metadata": {},
   "outputs": [],
   "source": [
    "# Example usage\n",
    "if __name__ == \"__main__\":\n",
    "    # Sign image\n",
    "    image_path = \"Capture.JPG\"\n",
    "    signature = sign_image(image_path, \"private_key.pem\")\n",
    "\n",
    "    # Verify signature\n",
    "    verify_signature(image_path, signature, \"public_key.pem\")"
   ]
  },
  {
   "cell_type": "code",
   "execution_count": null,
   "metadata": {},
   "outputs": [],
   "source": [
    "##FAILED DEEP SIGNING ATTEMPT 2\n",
    "\n",
    "import hashlib\n",
    "from Crypto.PublicKey import RSA\n",
    "from Crypto.Signature import pkcs1_15\n",
    "from PIL import Image\n",
    "import numpy as np\n",
    "from tensorflow.keras.applications import VGG16\n",
    "from tensorflow.keras.preprocessing import image\n",
    "from tensorflow.keras.models import Model\n",
    "from tensorflow.keras.layers import Dense, GlobalAveragePooling2D\n",
    "from tensorflow.keras.optimizers import Adam\n",
    "\n",
    "def preprocess_image(img_path):\n",
    "    img = image.load_img(img_path, target_size=(224, 224))\n",
    "    img_array = image.img_to_array(img)\n",
    "    img_array = np.expand_dims(img_array, axis=0)\n",
    "    img_array /= 255.0  # Normalize pixel values\n",
    "    return img_array\n",
    "\n",
    "def generate_image_hash(img_path):\n",
    "    # Load the pre-trained VGG16 model without the top layers\n",
    "    base_model = VGG16(weights='imagenet', include_top=False)\n",
    "\n",
    "    # Add custom top layers for hashing\n",
    "    x = base_model.output\n",
    "    x = GlobalAveragePooling2D()(x)\n",
    "    x = Dense(512, activation='relu')(x)\n",
    "    predictions = Dense(128, activation='sigmoid')(x)  # Using sigmoid activation for hash code\n",
    "\n",
    "    # Define the model\n",
    "    model = Model(inputs=base_model.input, outputs=predictions)\n",
    "\n",
    "    # Compile the model\n",
    "    model.compile(optimizer=Adam(), loss='binary_crossentropy')\n",
    "\n",
    "    img_array = preprocess_image(img_path)\n",
    "    hash_code = model.predict(img_array)\n",
    "    # Convert hash code to hexadecimal representation\n",
    "    hash_hex = hashlib.sha256(hash_code).hexdigest()\n",
    "    return hash_hex\n",
    "\n",
    "def sign_image(image_path, private_key_path):\n",
    "    # Load private key\n",
    "    with open(private_key_path, 'rb') as f:\n",
    "        private_key = RSA.importKey(f.read())\n",
    "\n",
    "    # Generate image hash\n",
    "    image_hash = generate_image_hash(image_path)\n",
    "\n",
    "    # Create signature\n",
    "    signer = pkcs1_15.new(private_key)\n",
    "    signature = signer.sign(hashlib.sha256(image_hash.encode()).digest())\n",
    "\n",
    "    return signature\n",
    "\n",
    "def verify_signature(image_path, signature, public_key_path):\n",
    "    # Load public key\n",
    "    with open(public_key_path, 'rb') as f:\n",
    "        public_key = RSA.importKey(f.read())\n",
    "\n",
    "    # Generate image hash\n",
    "    image_hash = generate_image_hash(image_path)\n",
    "\n",
    "    # Verify signature\n",
    "    verifier = pkcs1_15.new(public_key)\n",
    "    try:\n",
    "        verifier.verify(hashlib.sha256(image_hash.encode()).digest(), signature)\n",
    "        print(\"Signature is valid.\")\n",
    "    except (ValueError, TypeError):\n",
    "        print(\"Signature is not valid.\")\n",
    "\n"
   ]
  },
  {
   "cell_type": "code",
   "execution_count": null,
   "metadata": {},
   "outputs": [],
   "source": [
    "# Example usage\n",
    "if __name__ == \"__main__\":\n",
    "    # Sign image\n",
    "    image_path = \"Capture.JPG\"\n",
    "    signature = sign_image(image_path, \"private_key.pem\")\n",
    "\n",
    "    # Verify signature\n",
    "    verify_signature(image_path, signature, \"public_key.pem\")"
   ]
  },
  {
   "cell_type": "code",
   "execution_count": null,
   "metadata": {},
   "outputs": [],
   "source": []
  }
 ],
 "metadata": {
  "kernelspec": {
   "display_name": "Python 3 (ipykernel)",
   "language": "python",
   "name": "python3"
  },
  "language_info": {
   "codemirror_mode": {
    "name": "ipython",
    "version": 3
   },
   "file_extension": ".py",
   "mimetype": "text/x-python",
   "name": "python",
   "nbconvert_exporter": "python",
   "pygments_lexer": "ipython3",
   "version": "3.9.12"
  }
 },
 "nbformat": 4,
 "nbformat_minor": 2
}
