{
 "cells": [
  {
   "cell_type": "code",
   "execution_count": 1,
   "id": "a34eb19d",
   "metadata": {
    "colab": {
     "base_uri": "https://localhost:8080/"
    },
    "executionInfo": {
     "elapsed": 9078,
     "status": "ok",
     "timestamp": 1737062101489,
     "user": {
      "displayName": "Juan Ortiz Couder",
      "userId": "01171320327503722300"
     },
     "user_tz": 300
    },
    "id": "a34eb19d",
    "outputId": "bf8a637a-8686-4312-9871-f6b3deef89e9"
   },
   "outputs": [
    {
     "name": "stderr",
     "output_type": "stream",
     "text": [
      "C:\\Users\\juanc\\anaconda3\\lib\\site-packages\\scipy\\__init__.py:146: UserWarning: A NumPy version >=1.16.5 and <1.23.0 is required for this version of SciPy (detected version 1.26.4\n",
      "  warnings.warn(f\"A NumPy version >={np_minversion} and <{np_maxversion}\"\n",
      "C:\\Users\\juanc\\AppData\\Local\\Temp\\ipykernel_5864\\3555196728.py:10: UserWarning: `input_shape` is undefined or non-square, or `rows` is not in [96, 128, 160, 192, 224]. Weights for input shape (224, 224) will be loaded as the default.\n",
      "  base_model = MobileNetV2(weights='imagenet', include_top=False, pooling='avg')\n"
     ]
    },
    {
     "name": "stdout",
     "output_type": "stream",
     "text": [
      "Downloading data from https://storage.googleapis.com/tensorflow/keras-applications/mobilenet_v2/mobilenet_v2_weights_tf_dim_ordering_tf_kernels_1.0_224_no_top.h5\n",
      "\u001b[1m9406464/9406464\u001b[0m \u001b[32m━━━━━━━━━━━━━━━━━━━━\u001b[0m\u001b[37m\u001b[0m \u001b[1m0s\u001b[0m 0us/step\n"
     ]
    }
   ],
   "source": [
    "#2. Deep Hash\n",
    "import tensorflow as tf\n",
    "import numpy as np\n",
    "from tensorflow.keras.applications import MobileNetV2\n",
    "from tensorflow.keras.applications.mobilenet_v2 import preprocess_input\n",
    "from tensorflow.keras.preprocessing import image\n",
    "\n",
    "\n",
    "# Load the pretrained MobileNetV2 model\n",
    "base_model = MobileNetV2(weights='imagenet', include_top=False, pooling='avg')\n",
    "\n",
    "def hash_image_sha3_512(image_path):\n",
    "\n",
    "    # Load the image\n",
    "    image_path = \"Capture.JPG\"  # Replace with your image path\n",
    "    img = image.load_img(image_path, target_size=(224, 224))  # Resize image to 224x224\n",
    "    img_array = image.img_to_array(img)\n",
    "    img_array = np.expand_dims(img_array, axis=0)\n",
    "    img_array = preprocess_input(img_array)\n",
    "\n",
    "    # Extract features\n",
    "    features = base_model.predict(img_array)\n",
    "\n",
    "    # Convert features to a binary hash\n",
    "    binary_threshold = 0.0  # Set a threshold to binarize the features\n",
    "    hash_code = (features > binary_threshold).astype(int)\n",
    "\n",
    "    print(\"Deep Hash Code:\", hash_code)\n",
    "\n",
    "    return hash_code"
   ]
  },
  {
   "cell_type": "code",
   "execution_count": 2,
   "id": "d7a7e0c5",
   "metadata": {
    "executionInfo": {
     "elapsed": 6,
     "status": "ok",
     "timestamp": 1737062101490,
     "user": {
      "displayName": "Juan Ortiz Couder",
      "userId": "01171320327503722300"
     },
     "user_tz": 300
    },
    "id": "d7a7e0c5"
   },
   "outputs": [],
   "source": [
    "# 3. Sign the hash of an image\n",
    "\n",
    "from cryptography.hazmat.primitives import hashes\n",
    "from cryptography.hazmat.primitives.asymmetric import padding, rsa\n",
    "from cryptography.hazmat.primitives import serialization\n",
    "from cryptography.hazmat.primitives.serialization import load_pem_private_key\n",
    "from cryptography.hazmat.backends import default_backend\n",
    "\n",
    "def sign_image(image_path, private_key):\n",
    "    # Get the current process\n",
    "    process = psutil.Process()\n",
    "\n",
    "    # Record CPU times before function execution\n",
    "    cpu_times_before = process.cpu_times()\n",
    "\n",
    "    start_time = time.time()\n",
    "    gpus_before = GPUtil.getGPUs()\n",
    "    memory_used_before = sum(gpu.memoryUsed for gpu in gpus_before)\n",
    "    gpu_load_before = sum(gpu.load for gpu in gpus_before)\n",
    "\n",
    "    image_hash = hash_image_sha3_512(image_path)\n",
    "\n",
    "    # Sign the hash with the private key\n",
    "    signature = private_key.sign(\n",
    "        image_hash,\n",
    "        padding.PSS(\n",
    "            mgf=padding.MGF1(hashes.SHA512()),\n",
    "            salt_length=padding.PSS.MAX_LENGTH\n",
    "        ),\n",
    "        hashes.SHA512()\n",
    "    )\n",
    "    gpus_after = GPUtil.getGPUs()\n",
    "\n",
    "    # Record CPU times after function execution\n",
    "    end_time = time.time()\n",
    "\n",
    "    cpu_times_after = process.cpu_times()\n",
    "    memory_used_after = sum(gpu.memoryUsed for gpu in gpus_after)\n",
    "    gpu_load_after = sum(gpu.load for gpu in gpus_after)\n",
    "\n",
    "    memory_diff = memory_used_after - memory_used_before\n",
    "    gpu_load_diff = gpu_load_after - gpu_load_before\n",
    "    user_time = cpu_times_after.user - cpu_times_before.user\n",
    "    system_time = cpu_times_after.system - cpu_times_before.system\n",
    "    total_time = end_time - start_time\n",
    "\n",
    "    # Print results\n",
    "    print(f\"User CPU time: {user_time:.4f} seconds\")\n",
    "    print(f\"System CPU time: {system_time:.4f} seconds\")\n",
    "    print(f\"Total elapsed time: {total_time:.4f} seconds\")\n",
    "    print(f\"CPU usage: {(user_time + system_time) / total_time * 100:.2f}%\")\n",
    "    print(f\"GPU memory used: {memory_diff:.2f} MB\")\n",
    "    print(f\"GPU load change: {gpu_load_diff:.2f}\")\n",
    "    GPUtil.showUtilization(all=False, attrList=None, useOldCode=False)\n",
    "    return signature"
   ]
  },
  {
   "cell_type": "code",
   "execution_count": 3,
   "id": "71f9c028",
   "metadata": {
    "executionInfo": {
     "elapsed": 5,
     "status": "ok",
     "timestamp": 1737062101490,
     "user": {
      "displayName": "Juan Ortiz Couder",
      "userId": "01171320327503722300"
     },
     "user_tz": 300
    },
    "id": "71f9c028"
   },
   "outputs": [],
   "source": [
    "# 4. Verify the signature\n",
    "def verify_image_signature(image_path, signature, public_key):\n",
    "\n",
    "\n",
    "    # Get the current process\n",
    "    process = psutil.Process()\n",
    "\n",
    "    # Record CPU times before function execution\n",
    "    cpu_times_before = process.cpu_times()\n",
    "\n",
    "    start_time = time.time()\n",
    "    gpus_before = GPUtil.getGPUs()\n",
    "    memory_used_before = sum(gpu.memoryUsed for gpu in gpus_before)\n",
    "    gpu_load_before = sum(gpu.load for gpu in gpus_before)\n",
    "\n",
    "    with open(image_path, \"rb\") as img_file:\n",
    "        image_data = img_file.read()\n",
    "\n",
    "    image_hash = hash_image_sha3_512(image_path)\n",
    "\n",
    "    # Verify the signature with the public key\n",
    "    try:\n",
    "        public_key.verify(\n",
    "            signature,\n",
    "            image_hash,\n",
    "            padding.PSS(\n",
    "                mgf=padding.MGF1(hashes.SHA256()),\n",
    "                salt_length=padding.PSS.MAX_LENGTH\n",
    "            ),\n",
    "            hashes.SHA256()\n",
    "        )\n",
    "        print(\"Signature is valid!\")\n",
    "    except Exception as e:\n",
    "        print(f\"Signature verification failed: {e}\")\n",
    "\n",
    "\n",
    "    # Record CPU times after function execution\n",
    "    end_time = time.time()\n",
    "\n",
    "    cpu_times_after = process.cpu_times()\n",
    "    gpus_after = GPUtil.getGPUs()\n",
    "    memory_used_after = sum(gpu.memoryUsed for gpu in gpus_after)\n",
    "    gpu_load_after = sum(gpu.load for gpu in gpus_after)\n",
    "\n",
    "    memory_diff = memory_used_after - memory_used_before\n",
    "    gpu_load_diff = gpu_load_after - gpu_load_before\n",
    "    user_time = cpu_times_after.user - cpu_times_before.user\n",
    "    system_time = cpu_times_after.system - cpu_times_before.system\n",
    "    total_time = end_time - start_time\n",
    "\n",
    "    # Print results\n",
    "    print(f\"User CPU time: {user_time:.4f} seconds\")\n",
    "    print(f\"System CPU time: {system_time:.4f} seconds\")\n",
    "    print(f\"Total elapsed time: {total_time:.4f} seconds\")\n",
    "    print(f\"CPU usage: {(user_time + system_time) / total_time * 100:.2f}%\")\n",
    "    print(f\"GPU memory used: {memory_diff:.2f} MB\")\n",
    "    print(f\"GPU load change: {gpu_load_diff:.2f}\")\n",
    "    GPUtil.showUtilization(all=False, attrList=None, useOldCode=False)\n",
    "\n",
    "# Load signature and verify\n",
    "#with open(\"image_signature.sig\", \"rb\") as sig_file:\n",
    "#    saved_signature = sig_file.read()\n",
    "\n",
    "#verify_image_signature(\"Capture.JPG\", saved_signature, public_key)"
   ]
  },
  {
   "cell_type": "code",
   "execution_count": 4,
   "id": "bH491ia5p_uq",
   "metadata": {
    "colab": {
     "base_uri": "https://localhost:8080/"
    },
    "executionInfo": {
     "elapsed": 5521,
     "status": "ok",
     "timestamp": 1737062107007,
     "user": {
      "displayName": "Juan Ortiz Couder",
      "userId": "01171320327503722300"
     },
     "user_tz": 300
    },
    "id": "bH491ia5p_uq",
    "outputId": "a19cd036-4c58-4d3a-8676-594f2ead6299"
   },
   "outputs": [
    {
     "name": "stdout",
     "output_type": "stream",
     "text": [
      "Requirement already satisfied: gputil in c:\\users\\juanc\\anaconda3\\lib\\site-packages (1.4.0)\n"
     ]
    }
   ],
   "source": [
    "!pip install gputil"
   ]
  },
  {
   "cell_type": "code",
   "execution_count": 5,
   "id": "0332a71f",
   "metadata": {
    "executionInfo": {
     "elapsed": 7,
     "status": "ok",
     "timestamp": 1737062107007,
     "user": {
      "displayName": "Juan Ortiz Couder",
      "userId": "01171320327503722300"
     },
     "user_tz": 300
    },
    "id": "0332a71f"
   },
   "outputs": [],
   "source": [
    "from cryptography.hazmat.primitives.serialization import load_pem_private_key, load_pem_public_key\n",
    "from cryptography.hazmat.backends import default_backend\n",
    "import time\n",
    "import psutil\n",
    "import GPUtil\n",
    "\n",
    "def main():\n",
    "    # Example for image hash\n",
    "    image_path = \"Capture.JPG\"\n",
    "\n",
    "    # Load the private key from the file\n",
    "    with open(\"private_key.pem\", \"rb\") as key_file:\n",
    "        private_key = load_pem_private_key(\n",
    "            key_file.read(),\n",
    "            password=None,  # Add a password here if the private key is encrypted\n",
    "            backend=default_backend()\n",
    "        )\n",
    "\n",
    "    with open(\"public_key.pem\", \"rb\") as key_file:\n",
    "        public_key = load_pem_public_key(\n",
    "          key_file.read(),\n",
    "          backend=default_backend()\n",
    "        )\n",
    "\n",
    "    start_time = time.time()\n",
    "    #hashed = hash_image_sha3_512(\"Capture.JPG\")\n",
    "\n",
    "    signature = sign_image(image_path, private_key)\n",
    "\n",
    "    # Save signature to a file\n",
    "    with open(\"image_signature.sig\", \"wb\") as sig_file:\n",
    "        sig_file.write(signature)\n",
    "\n",
    "    print(\"Image signed successfully. Signature saved to 'image_signature.sig'.\")\n",
    "\n",
    "    verify = verify_image_signature(image_path, signature, public_key)\n",
    "\n",
    "    #print(\"Hash value:\", hash_value)\n",
    "    print(\"--- %s seconds ---\" % (time.time() - start_time))"
   ]
  },
  {
   "cell_type": "code",
   "execution_count": 10,
   "id": "6bee725e",
   "metadata": {
    "colab": {
     "base_uri": "https://localhost:8080/"
    },
    "executionInfo": {
     "elapsed": 12916,
     "status": "ok",
     "timestamp": 1737062119917,
     "user": {
      "displayName": "Juan Ortiz Couder",
      "userId": "01171320327503722300"
     },
     "user_tz": 300
    },
    "id": "6bee725e",
    "outputId": "c38d62aa-73da-4feb-b4db-eac0aa6ffd12"
   },
   "outputs": [
    {
     "name": "stdout",
     "output_type": "stream",
     "text": [
      "\u001b[1m1/1\u001b[0m \u001b[32m━━━━━━━━━━━━━━━━━━━━\u001b[0m\u001b[37m\u001b[0m \u001b[1m0s\u001b[0m 36ms/step\n",
      "Deep Hash Code: [[0 0 1 ... 1 1 1]]\n",
      "User CPU time: 0.0312 seconds\n",
      "System CPU time: 0.0156 seconds\n",
      "Total elapsed time: 0.1697 seconds\n",
      "CPU usage: 27.61%\n",
      "GPU memory used: 0.00 MB\n",
      "GPU load change: 0.03\n",
      "| ID | GPU | MEM |\n",
      "------------------\n",
      "|  0 | 34% | 12% |\n",
      "Image signed successfully. Signature saved to 'image_signature.sig'.\n",
      "\u001b[1m1/1\u001b[0m \u001b[32m━━━━━━━━━━━━━━━━━━━━\u001b[0m\u001b[37m\u001b[0m \u001b[1m0s\u001b[0m 34ms/step\n",
      "Deep Hash Code: [[0 0 1 ... 1 1 1]]\n",
      "Signature verification failed: \n",
      "User CPU time: 0.0469 seconds\n",
      "System CPU time: 0.0000 seconds\n",
      "Total elapsed time: 0.1169 seconds\n",
      "CPU usage: 40.10%\n",
      "GPU memory used: 0.00 MB\n",
      "GPU load change: 0.01\n",
      "| ID | GPU | MEM |\n",
      "------------------\n",
      "|  0 | 35% | 12% |\n",
      "--- 0.41774630546569824 seconds ---\n"
     ]
    }
   ],
   "source": [
    "main()"
   ]
  }
 ],
 "metadata": {
  "accelerator": "GPU",
  "colab": {
   "gpuType": "T4",
   "provenance": []
  },
  "kernelspec": {
   "display_name": "Python 3 (ipykernel)",
   "language": "python",
   "name": "python3"
  },
  "language_info": {
   "codemirror_mode": {
    "name": "ipython",
    "version": 3
   },
   "file_extension": ".py",
   "mimetype": "text/x-python",
   "name": "python",
   "nbconvert_exporter": "python",
   "pygments_lexer": "ipython3",
   "version": "3.9.12"
  }
 },
 "nbformat": 4,
 "nbformat_minor": 5
}
