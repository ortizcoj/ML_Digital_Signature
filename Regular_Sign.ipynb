{
 "cells": [
  {
   "cell_type": "code",
   "execution_count": 13,
   "id": "AcSMz_3y0bQ0",
   "metadata": {
    "colab": {
     "base_uri": "https://localhost:8080/"
    },
    "executionInfo": {
     "elapsed": 2124,
     "status": "ok",
     "timestamp": 1737061979634,
     "user": {
      "displayName": "Juan Ortiz Couder",
      "userId": "01171320327503722300"
     },
     "user_tz": 300
    },
    "id": "AcSMz_3y0bQ0",
    "outputId": "9228666a-020f-45f0-dc4d-48dcd71d6835"
   },
   "outputs": [
    {
     "name": "stdout",
     "output_type": "stream",
     "text": [
      "Requirement already satisfied: memory_profiler in c:\\users\\juanc\\anaconda3\\lib\\site-packages (0.61.0)\n",
      "Requirement already satisfied: psutil in c:\\users\\juanc\\anaconda3\\lib\\site-packages (from memory_profiler) (5.8.0)\n"
     ]
    }
   ],
   "source": [
    "!pip install -U memory_profiler"
   ]
  },
  {
   "cell_type": "code",
   "execution_count": 14,
   "id": "a34eb19d",
   "metadata": {
    "executionInfo": {
     "elapsed": 10,
     "status": "ok",
     "timestamp": 1737061979634,
     "user": {
      "displayName": "Juan Ortiz Couder",
      "userId": "01171320327503722300"
     },
     "user_tz": 300
    },
    "id": "a34eb19d"
   },
   "outputs": [],
   "source": [
    "#2. Hash\n",
    "import hashlib\n",
    "from cryptography.hazmat.primitives import hashes\n",
    "\n",
    "def hash_image_sha3_512(image_path):\n",
    "    with open(image_path, \"rb\") as img_file:\n",
    "        image_data = img_file.read()\n",
    "\n",
    "    digest = hashes.Hash(hashes.SHA3_512())\n",
    "    digest.update(image_data)\n",
    "    image_hash = digest.finalize()\n",
    "\n",
    "    return image_hash\n"
   ]
  },
  {
   "cell_type": "code",
   "execution_count": 15,
   "id": "d7a7e0c5",
   "metadata": {
    "cellView": "code",
    "executionInfo": {
     "elapsed": 10,
     "status": "ok",
     "timestamp": 1737061979635,
     "user": {
      "displayName": "Juan Ortiz Couder",
      "userId": "01171320327503722300"
     },
     "user_tz": 300
    },
    "id": "d7a7e0c5"
   },
   "outputs": [],
   "source": [
    "# 3. Sign the hash of an image\n",
    "\n",
    "from cryptography.hazmat.primitives import hashes\n",
    "from cryptography.hazmat.primitives.asymmetric import padding, rsa\n",
    "from cryptography.hazmat.primitives import serialization\n",
    "from cryptography.hazmat.primitives.serialization import load_pem_private_key\n",
    "from cryptography.hazmat.backends import default_backend\n",
    "\n",
    "\n",
    "\n",
    "def sign_image(image_path, private_key):\n",
    "    # Get the current process\n",
    "    process = psutil.Process()\n",
    "\n",
    "    # Record CPU times before function execution\n",
    "    cpu_times_before = process.cpu_times()\n",
    "\n",
    "    start_time = time.time()\n",
    "    gpus_before = GPUtil.getGPUs()\n",
    "    memory_used_before = sum(gpu.memoryUsed for gpu in gpus_before)\n",
    "    gpu_load_before = sum(gpu.load for gpu in gpus_before)\n",
    "\n",
    "    image_hash = hash_image_sha3_512(image_path)\n",
    "    print(\"Image hash:\", image_hash.hex())\n",
    "\n",
    "    # Sign the hash with the private key\n",
    "    signature = private_key.sign(\n",
    "        image_hash,\n",
    "        padding.PSS(\n",
    "            mgf=padding.MGF1(hashes.SHA256()),\n",
    "            salt_length=padding.PSS.MAX_LENGTH\n",
    "        ),\n",
    "        hashes.SHA256()\n",
    "    )\n",
    "\n",
    "\n",
    "\n",
    "    end_time = time.time()\n",
    "\n",
    "    # Record CPU times after function execution\n",
    "    cpu_times_after = process.cpu_times()\n",
    "    gpus_after = GPUtil.getGPUs()\n",
    "    memory_used_after = sum(gpu.memoryUsed for gpu in gpus_after)\n",
    "    gpu_load_after = sum(gpu.load for gpu in gpus_after)\n",
    "\n",
    "    memory_diff = memory_used_after - memory_used_before\n",
    "    gpu_load_diff = gpu_load_after - gpu_load_before\n",
    "    user_time = cpu_times_after.user - cpu_times_before.user\n",
    "    system_time = cpu_times_after.system - cpu_times_before.system\n",
    "    total_time = end_time - start_time\n",
    "\n",
    "    # Print results\n",
    "    print(f\"User CPU time: {user_time:.4f} seconds\")\n",
    "    print(f\"System CPU time: {system_time:.4f} seconds\")\n",
    "    print(f\"Total elapsed time: {total_time:.4f} seconds\")\n",
    "    print(f\"CPU usage: {(user_time + system_time) / total_time * 100:.2f}%\")\n",
    "    print(f\"GPU memory used: {memory_diff:.2f} MB\")\n",
    "    print(f\"GPU load change: {gpu_load_diff:.2f}\")\n",
    "    GPUtil.showUtilization(all=False, attrList=None, useOldCode=False)\n",
    "\n",
    "    return signature"
   ]
  },
  {
   "cell_type": "code",
   "execution_count": 16,
   "id": "71f9c028",
   "metadata": {
    "executionInfo": {
     "elapsed": 10,
     "status": "ok",
     "timestamp": 1737061979635,
     "user": {
      "displayName": "Juan Ortiz Couder",
      "userId": "01171320327503722300"
     },
     "user_tz": 300
    },
    "id": "71f9c028"
   },
   "outputs": [],
   "source": [
    "# 4. Verify the signature\n",
    "def verify_image_signature(image_path, signature, public_key):\n",
    "\n",
    "\n",
    "    # Get the current process\n",
    "    process = psutil.Process()\n",
    "\n",
    "    # Record CPU times before function execution\n",
    "    cpu_times_before = process.cpu_times()\n",
    "\n",
    "    start_time = time.time()\n",
    "    gpus_before = GPUtil.getGPUs()\n",
    "    memory_used_before = sum(gpu.memoryUsed for gpu in gpus_before)\n",
    "    gpu_load_before = sum(gpu.load for gpu in gpus_before)\n",
    "\n",
    "\n",
    "    with open(image_path, \"rb\") as img_file:\n",
    "        image_data = img_file.read()\n",
    "\n",
    "    image_hash = hash_image_sha3_512(image_path)\n",
    "\n",
    "    # Verify the signature with the public key\n",
    "    try:\n",
    "        public_key.verify(\n",
    "            signature,\n",
    "            image_hash,\n",
    "            padding.PSS(\n",
    "                mgf=padding.MGF1(hashes.SHA256()),\n",
    "                salt_length=padding.PSS.MAX_LENGTH\n",
    "            ),\n",
    "            hashes.SHA256()\n",
    "        )\n",
    "        print(\"Signature is valid!\")\n",
    "    except Exception as e:\n",
    "        print(f\"Signature verification failed: {e}\")\n",
    "\n",
    "    # Record CPU times after function execution\n",
    "    end_time = time.time()\n",
    "\n",
    "    cpu_times_after = process.cpu_times()\n",
    "    gpus_after = GPUtil.getGPUs()\n",
    "    memory_used_after = sum(gpu.memoryUsed for gpu in gpus_after)\n",
    "    gpu_load_after = sum(gpu.load for gpu in gpus_after)\n",
    "\n",
    "    memory_diff = memory_used_after - memory_used_before\n",
    "    gpu_load_diff = gpu_load_after - gpu_load_before\n",
    "    user_time = cpu_times_after.user - cpu_times_before.user\n",
    "    system_time = cpu_times_after.system - cpu_times_before.system\n",
    "    total_time = end_time - start_time\n",
    "\n",
    "    # Print results\n",
    "    print(f\"User CPU time: {user_time:.4f} seconds\")\n",
    "    print(f\"System CPU time: {system_time:.4f} seconds\")\n",
    "    print(f\"Total elapsed time: {total_time:.4f} seconds\")\n",
    "    print(f\"CPU usage: {(user_time + system_time) / total_time * 100:.2f}%\")\n",
    "    print(f\"GPU memory used: {memory_diff:.2f} MB\")\n",
    "    print(f\"GPU load change: {gpu_load_diff:.2f}\")\n",
    "    GPUtil.showUtilization(all=False, attrList=None, useOldCode=False)\n",
    "\n",
    "# Load signature and verify\n",
    "#with open(\"image_signature.sig\", \"rb\") as sig_file:\n",
    "#    saved_signature = sig_file.read()\n",
    "\n",
    "#verify_image_signature(image_path, saved_signature, public_key)"
   ]
  },
  {
   "cell_type": "code",
   "execution_count": 17,
   "id": "WdjEgZI3XC7s",
   "metadata": {
    "colab": {
     "base_uri": "https://localhost:8080/"
    },
    "executionInfo": {
     "elapsed": 2677,
     "status": "ok",
     "timestamp": 1737061982303,
     "user": {
      "displayName": "Juan Ortiz Couder",
      "userId": "01171320327503722300"
     },
     "user_tz": 300
    },
    "id": "WdjEgZI3XC7s",
    "outputId": "6d720bcd-af57-401e-ad3a-a2690c210e46"
   },
   "outputs": [
    {
     "name": "stdout",
     "output_type": "stream",
     "text": [
      "Requirement already satisfied: GPUtil in c:\\users\\juanc\\anaconda3\\lib\\site-packages (1.4.0)\n"
     ]
    }
   ],
   "source": [
    "!pip install GPUtil"
   ]
  },
  {
   "cell_type": "code",
   "execution_count": 18,
   "id": "0332a71f",
   "metadata": {
    "executionInfo": {
     "elapsed": 8,
     "status": "ok",
     "timestamp": 1737061982304,
     "user": {
      "displayName": "Juan Ortiz Couder",
      "userId": "01171320327503722300"
     },
     "user_tz": 300
    },
    "id": "0332a71f"
   },
   "outputs": [],
   "source": [
    "from cryptography.hazmat.primitives.serialization import load_pem_private_key, load_pem_public_key\n",
    "from cryptography.hazmat.backends import default_backend\n",
    "import time\n",
    "import psutil\n",
    "import GPUtil\n",
    "\n",
    "def main():\n",
    "    # Example for image hash\n",
    "    image_path = \"Capture.JPG\"\n",
    "\n",
    "    # Load the private key from the file\n",
    "    with open(\"private_key.pem\", \"rb\") as key_file:\n",
    "        private_key = load_pem_private_key(\n",
    "            key_file.read(),\n",
    "            password=None,  # Add a password here if the private key is encrypted\n",
    "            backend=default_backend()\n",
    "        )\n",
    "\n",
    "    with open(\"public_key.pem\", \"rb\") as key_file:\n",
    "        public_key = load_pem_public_key(\n",
    "          key_file.read(),\n",
    "          backend=default_backend()\n",
    "        )\n",
    "\n",
    "    start_time = time.time()\n",
    "    hashed = hash_image_sha3_512(\"Capture.JPG\")\n",
    "\n",
    "    signature = sign_image(image_path, private_key)\n",
    "\n",
    "    # Save signature to a file\n",
    "    with open(\"image_signature.sig\", \"wb\") as sig_file:\n",
    "        sig_file.write(signature)\n",
    "\n",
    "    print(\"Image signed successfully. Signature saved to 'image_signature.sig'.\")\n",
    "\n",
    "    # Load signature from the file\n",
    "    with open(\"image_signature.sig\", \"rb\") as sig_file:\n",
    "        sign = sig_file.read()\n",
    "\n",
    "    verify = verify_image_signature(image_path, sign, public_key)\n",
    "\n",
    "    #print(\"Hash value:\", hash_value)\n",
    "    print(\"--- %s seconds ---\" % (time.time() - start_time))"
   ]
  },
  {
   "cell_type": "code",
   "execution_count": 19,
   "id": "NJP3UTst2VAw",
   "metadata": {
    "colab": {
     "base_uri": "https://localhost:8080/"
    },
    "executionInfo": {
     "elapsed": 313,
     "status": "ok",
     "timestamp": 1737061982610,
     "user": {
      "displayName": "Juan Ortiz Couder",
      "userId": "01171320327503722300"
     },
     "user_tz": 300
    },
    "id": "NJP3UTst2VAw",
    "outputId": "5f0c41f0-2d17-44c1-fdd2-d0042290a69d"
   },
   "outputs": [
    {
     "name": "stdout",
     "output_type": "stream",
     "text": [
      "Image hash: 7ad424763b2633c196ee348da36a32c31ebaa35e430f008761ac45b885e0eaf73b0447b0d951793910ddd1a7aba50ef69d9df5f5aa4ed435555ba1e9b7fe7625\n",
      "User CPU time: 0.0000 seconds\n",
      "System CPU time: 0.0000 seconds\n",
      "Total elapsed time: 0.0547 seconds\n",
      "CPU usage: 0.00%\n",
      "GPU memory used: 0.00 MB\n",
      "GPU load change: 0.00\n",
      "| ID | GPU | MEM |\n",
      "------------------\n",
      "|  0 | 29% | 12% |\n",
      "Image signed successfully. Signature saved to 'image_signature.sig'.\n",
      "Signature is valid!\n",
      "User CPU time: 0.0156 seconds\n",
      "System CPU time: 0.0000 seconds\n",
      "Total elapsed time: 0.0426 seconds\n",
      "CPU usage: 36.68%\n",
      "GPU memory used: -8.00 MB\n",
      "GPU load change: 0.00\n",
      "| ID | GPU | MEM |\n",
      "------------------\n",
      "|  0 | 29% | 12% |\n",
      "--- 0.29016661643981934 seconds ---\n"
     ]
    }
   ],
   "source": [
    "main()"
   ]
  }
 ],
 "metadata": {
  "accelerator": "GPU",
  "colab": {
   "gpuType": "T4",
   "provenance": []
  },
  "kernelspec": {
   "display_name": "Python 3 (ipykernel)",
   "language": "python",
   "name": "python3"
  },
  "language_info": {
   "codemirror_mode": {
    "name": "ipython",
    "version": 3
   },
   "file_extension": ".py",
   "mimetype": "text/x-python",
   "name": "python",
   "nbconvert_exporter": "python",
   "pygments_lexer": "ipython3",
   "version": "3.9.12"
  }
 },
 "nbformat": 4,
 "nbformat_minor": 5
}
